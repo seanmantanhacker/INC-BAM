{
 "cells": [
  {
   "cell_type": "code",
   "execution_count": 7,
   "id": "7999d0cf",
   "metadata": {},
   "outputs": [],
   "source": [
    "import glob\n",
    "import numpy as np\n",
    "import os"
   ]
  },
  {
   "cell_type": "code",
   "execution_count": 8,
   "id": "93919bcf",
   "metadata": {},
   "outputs": [],
   "source": [
    "from utils.LoRa import MultiBAM"
   ]
  },
  {
   "cell_type": "code",
   "execution_count": 9,
   "id": "68fe7bfb",
   "metadata": {},
   "outputs": [
    {
     "name": "stdout",
     "output_type": "stream",
     "text": [
      "LOAD DATASET\n",
      "(0,)\n",
      "TRAIN MULTIBAM\n"
     ]
    }
   ],
   "source": [
    "dataset_name_folder = \"dataset_new_sf9\"\n",
    "input_layer = 256 * 15\n",
    "GEENRATE_ = False #Secure accidently running\n",
    "# Load all .npy files\n",
    "print(\"LOAD DATASET\")\n",
    "\n",
    "files = glob.glob(f'{dataset_name_folder}/*.npy')\n",
    "data_list = [np.load(f) for f in files]\n",
    "\n",
    "# Flatten each spectrogram to 1D (256*15 = 3840)\n",
    "X = np.array([d.flatten() for d in data_list])  # shape: (num_samples, 3840)\n",
    "print(X.shape)\n",
    "layers = [input_layer, 1024, 256]  # compress 3840 → 1024 → 256\n",
    "multi_bam = MultiBAM(layers_dims=layers, eta=1e-5)\n",
    "\n",
    "def train_multibam(model, X, epochs=5, batch_size=32):\n",
    "    n = len(X)\n",
    "    for epoch in range(epochs):\n",
    "        print(f\"\\nEpoch {epoch+1}/{epochs}\")\n",
    "        np.random.shuffle(X)\n",
    "        for i in range(0, n, batch_size):\n",
    "            batch = X[i:i+batch_size]\n",
    "            model.train(batch)\n",
    "        print(f\"  -> epoch {epoch+1} done.\")\n",
    "\n",
    "print(\"TRAIN MULTIBAM\")\n",
    "if (GEENRATE_):\n",
    "    \n",
    "    folder_path = \"weight\"\n",
    "\n",
    "    # Check if folder exists, if not create it\n",
    "    if not os.path.exists(folder_path):\n",
    "        os.makedirs(folder_path)\n",
    "        print(f\"Folder created: {folder_path}\")\n",
    "    else:\n",
    "        print(f\"Folder already exists: {folder_path}\")\n",
    "    train_multibam(multi_bam, X, epochs=10, batch_size=32)\n",
    "    for i, bam in enumerate(multi_bam.bams):\n",
    "        np.save(f\"{folder_path}/weights_layer_{i}.npy\", bam.W)\n",
    "\n",
    "def load_weight(): \n",
    "    ## HOW TO LOAD WEIGHT\n",
    "    layers = [256*15, 1024, 256] # <-- must match training\n",
    "\n",
    "    multi_bam = MultiBAM(layers_dims=layers, eta=1e-5)\n",
    "    for i, bam in enumerate(multi_bam.bams):\n",
    "        bam.W = np.load(f\"weight/weights_layer_{i}.npy\")\n"
   ]
  }
 ],
 "metadata": {
  "kernelspec": {
   "display_name": "Python 3",
   "language": "python",
   "name": "python3"
  },
  "language_info": {
   "codemirror_mode": {
    "name": "ipython",
    "version": 3
   },
   "file_extension": ".py",
   "mimetype": "text/x-python",
   "name": "python",
   "nbconvert_exporter": "python",
   "pygments_lexer": "ipython3",
   "version": "3.12.10"
  }
 },
 "nbformat": 4,
 "nbformat_minor": 5
}
