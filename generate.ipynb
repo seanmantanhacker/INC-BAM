{
 "cells": [
  {
   "cell_type": "code",
   "execution_count": 23,
   "id": "c97b91ea",
   "metadata": {},
   "outputs": [
    {
     "data": {
      "text/plain": [
       "'\\n1. This file Generate the Dataset for training\\n'"
      ]
     },
     "execution_count": 23,
     "metadata": {},
     "output_type": "execute_result"
    }
   ],
   "source": [
    "#############################################\n",
    "\"\"\"\n",
    "1. This file Generate the Dataset for training\n",
    "\"\"\""
   ]
  },
  {
   "cell_type": "code",
   "execution_count": 24,
   "id": "0c0888ff",
   "metadata": {},
   "outputs": [],
   "source": [
    "import numpy as np\n",
    "from scipy.signal import resample_poly, spectrogram\n",
    "from utils.LoRa import LoRa\n",
    "import matplotlib.pyplot as plt\n",
    "\n",
    "import importlib\n",
    "import utils.my_lora_utils\n",
    "importlib.reload(utils.my_lora_utils)\n",
    "from utils.my_lora_utils import *"
   ]
  },
  {
   "cell_type": "code",
   "execution_count": 25,
   "id": "5251c76d",
   "metadata": {},
   "outputs": [],
   "source": [
    "fs = 1e6   # 1 MHz\n",
    "bw = 125e3          # LoRa Bandwidth (125 kHz)\n",
    "sf = 9       # Spreading Factor \n",
    "\n",
    "symbol_time = 2**sf / bw  # Symbol duration\n",
    "N = 2**sf\n",
    "\n",
    "lora_init = LoRa(sf, bw)"
   ]
  },
  {
   "cell_type": "code",
   "execution_count": 26,
   "id": "3cc61292",
   "metadata": {},
   "outputs": [],
   "source": [
    "# GENERATE NEW DATASET (ONCE)\n",
    "import os\n",
    "GEENRATE_ = False\n",
    "\n",
    "SNR_first = 15\n",
    "SNR_last = 13\n",
    "\n",
    "if (GEENRATE_):\n",
    "    import os\n",
    "\n",
    "    folder_path = \"dataset_new_sf9\"\n",
    "\n",
    "    # Check if folder exists, if not create it\n",
    "    if not os.path.exists(folder_path):\n",
    "        os.makedirs(folder_path)\n",
    "        print(f\"Folder created: {folder_path}\")\n",
    "    else:\n",
    "        print(f\"Folder already exists: {folder_path}\")\n",
    "    # Outer loop: from 15 to -30 (inclusive)\n",
    "    for i in range(SNR_first, SNR_last, -1):  # step -1 to count down\n",
    "        # Inner loop: 100 iterations\n",
    "        for j in range(512): # 0 until 511\n",
    "            x1 = lora_init.gen_symbol_fs(j, sf=sf, bw=bw, Fs=fs)  # you had Fs=int(bw*8)=1e6\n",
    "            snr = i\n",
    "            x = lora_init.awgn_iq(x1,snr)\n",
    "            #### DOWNSAMPLING\n",
    "            x_ds,fs_new = downsampling(x,fs,4)\n",
    "            create_spectrogram_npy(x_ds,fs_new,i,j,1,\"dataset_new_sf9\")\n",
    "       "
   ]
  }
 ],
 "metadata": {
  "kernelspec": {
   "display_name": "Python 3",
   "language": "python",
   "name": "python3"
  },
  "language_info": {
   "codemirror_mode": {
    "name": "ipython",
    "version": 3
   },
   "file_extension": ".py",
   "mimetype": "text/x-python",
   "name": "python",
   "nbconvert_exporter": "python",
   "pygments_lexer": "ipython3",
   "version": "3.12.10"
  }
 },
 "nbformat": 4,
 "nbformat_minor": 5
}
